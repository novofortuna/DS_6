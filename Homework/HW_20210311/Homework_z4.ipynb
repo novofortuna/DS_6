{
 "cells": [
  {
   "cell_type": "markdown",
   "metadata": {},
   "source": [
    "## **Завдання 4**"
   ]
  },
  {
   "cell_type": "markdown",
   "metadata": {},
   "source": [
    "### **Дана стрічка, що складається із двох слів розділених пробілом**\n",
    "### **Слова та порядок в словах поміняйте місцями**"
   ]
  },
  {
   "cell_type": "code",
   "execution_count": 1,
   "metadata": {},
   "outputs": [
    {
     "name": "stdout",
     "output_type": "stream",
     "text": [
      "Новий Рік\n",
      "кіР  йивоН\n"
     ]
    }
   ],
   "source": [
    "s=input()            #задаємо стрічку з двох слів\n",
    "x=s.find(' ')\n",
    "s1=s[:x]             #робимо зріз до пробілу\n",
    "s2=s[x:]             #робимо зріз після пробілу\n",
    "ns1=s1[::-1]         #обернаємо стрічку s1\n",
    "ns2=s2[::-1]         #обернаємо стрічку s2\n",
    "print(ns2+' '+ns1)"
   ]
  }
 ],
 "metadata": {
  "kernelspec": {
   "display_name": "Python 3",
   "language": "python",
   "name": "python3"
  },
  "language_info": {
   "codemirror_mode": {
    "name": "ipython",
    "version": 3
   },
   "file_extension": ".py",
   "mimetype": "text/x-python",
   "name": "python",
   "nbconvert_exporter": "python",
   "pygments_lexer": "ipython3",
   "version": "3.8.5"
  }
 },
 "nbformat": 4,
 "nbformat_minor": 4
}
