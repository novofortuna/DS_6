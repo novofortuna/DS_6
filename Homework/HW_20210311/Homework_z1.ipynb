{
 "cells": [
  {
   "cell_type": "markdown",
   "metadata": {},
   "source": [
    "## **Завдання 1**"
   ]
  },
  {
   "cell_type": "markdown",
   "metadata": {},
   "source": [
    "### **Перевірити умову: \"Число А є додатнє\"**"
   ]
  },
  {
   "cell_type": "code",
   "execution_count": 1,
   "metadata": {
    "scrolled": true
   },
   "outputs": [
    {
     "name": "stdout",
     "output_type": "stream",
     "text": [
      "1\n",
      "True\n",
      "-2\n",
      "Число від'ємне\n"
     ]
    }
   ],
   "source": [
    "A = int(input())\n",
    "print(A > 0)\n",
    "\n",
    "#або\n",
    "\n",
    "A = int(input())\n",
    "if A > 0:\n",
    "    print(\"Число додатнє\")\n",
    "elif A < 0 :\n",
    "    print(\"Число від'ємне\")\n",
    "else:\n",
    "    print (\"Число 0\") "
   ]
  },
  {
   "cell_type": "markdown",
   "metadata": {},
   "source": [
    "### **Перевірити умову: \"Число А парне\"**"
   ]
  },
  {
   "cell_type": "code",
   "execution_count": 1,
   "metadata": {},
   "outputs": [
    {
     "name": "stdout",
     "output_type": "stream",
     "text": [
      "4\n",
      "True\n",
      "7\n",
      "Число непарне\n"
     ]
    }
   ],
   "source": [
    "A = int(input())\n",
    "print(A % 2 == 0)\n",
    "\n",
    "#або\n",
    "\n",
    "A = int(input())\n",
    "if A % 2 == 0:\n",
    "    print(\"Число парне\")\n",
    "else:\n",
    "    print(\"Число непарне\")"
   ]
  },
  {
   "cell_type": "markdown",
   "metadata": {},
   "source": [
    "### **Перевірити умову: \"Число А кратне 13\"**"
   ]
  },
  {
   "cell_type": "code",
   "execution_count": 1,
   "metadata": {},
   "outputs": [
    {
     "name": "stdout",
     "output_type": "stream",
     "text": [
      "15\n",
      "False\n",
      "39\n",
      "Число кратне 13\n"
     ]
    }
   ],
   "source": [
    "A = int(input())\n",
    "print(A % 13 == 0)\n",
    "\n",
    "#або\n",
    "\n",
    "A = int(input())\n",
    "if A % 13 == 0:\n",
    "    print(\"Число кратне 13\")\n",
    "else:\n",
    "    print(\"Число не кратне 13\")"
   ]
  },
  {
   "cell_type": "markdown",
   "metadata": {},
   "source": [
    "### **Перевірити умову: \"Кожне із чисел А та В - парне\"**"
   ]
  },
  {
   "cell_type": "code",
   "execution_count": 1,
   "metadata": {},
   "outputs": [
    {
     "name": "stdout",
     "output_type": "stream",
     "text": [
      "2\n",
      "4\n",
      "True\n",
      "1\n",
      "6\n",
      "Умова, що кожне число парне, не виконується\n"
     ]
    }
   ],
   "source": [
    "A = int(input())\n",
    "B = int(input())\n",
    "print(A % 2 == 0 and B % 2 == 0)\n",
    "\n",
    "#або\n",
    "\n",
    "A = int(input())\n",
    "B = int(input())\n",
    "if A % 2 == 0 and B % 2 ==0:\n",
    "    print(\"Кожне число парне\")\n",
    "else:\n",
    "    print(\"Умова, що кожне число парне, не виконується\")"
   ]
  },
  {
   "cell_type": "markdown",
   "metadata": {},
   "source": [
    "### **Перевірити умову: \"Кожне із чисел А та В мають однакову парність\"**"
   ]
  },
  {
   "cell_type": "code",
   "execution_count": 1,
   "metadata": {},
   "outputs": [
    {
     "name": "stdout",
     "output_type": "stream",
     "text": [
      "1\n",
      "3\n",
      "True\n",
      "2\n",
      "7\n",
      "Числа різної парності\n"
     ]
    }
   ],
   "source": [
    "A = int(input())\n",
    "B = int(input())\n",
    "print((A % 2 == 0 and B % 2 == 0) or (A % 2 != 0 and B % 2 != 0))\n",
    "\n",
    "#або\n",
    "\n",
    "A = int(input())\n",
    "B = int(input())\n",
    "if (A % 2 == 0 and B % 2 == 0) or (A % 2 != 0 and B % 2 != 0):\n",
    "    print(\"Числа мають однакову парність\")\n",
    "else:\n",
    "    print(\"Числа різної парності\")"
   ]
  }
 ],
 "metadata": {
  "kernelspec": {
   "display_name": "Python 3",
   "language": "python",
   "name": "python3"
  },
  "language_info": {
   "codemirror_mode": {
    "name": "ipython",
    "version": 3
   },
   "file_extension": ".py",
   "mimetype": "text/x-python",
   "name": "python",
   "nbconvert_exporter": "python",
   "pygments_lexer": "ipython3",
   "version": "3.8.5"
  }
 },
 "nbformat": 4,
 "nbformat_minor": 4
}
