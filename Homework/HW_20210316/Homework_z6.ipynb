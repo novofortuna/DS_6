{
 "cells": [
  {
   "cell_type": "markdown",
   "metadata": {},
   "source": [
    "## **Завдання 6.**  \n",
    "Користувач вводит 10 чисел.  \n",
    "Знайдіть:\n",
    "* середнє значення,\n",
    "* медіану,\n",
    "* стандартне відхилення."
   ]
  },
  {
   "cell_type": "code",
   "execution_count": 1,
   "metadata": {},
   "outputs": [
    {
     "name": "stdout",
     "output_type": "stream",
     "text": [
      "10\n",
      "15\n",
      "78\n",
      "159\n",
      "1\n",
      "258\n",
      "357\n",
      "12\n",
      "321\n",
      "954\n",
      "741\n",
      "Середнє значення чисел - 289.6\n",
      "Середнє значення чисел із округленням до 2-х знаків - 289.6\n",
      "Медіана чисел - 208.5\n",
      "Стандартне відхилення - 324.77417795549366\n",
      "Стандартне відхилення із округленням до 2-х знаків - 324.77\n"
     ]
    }
   ],
   "source": [
    "N = int(input())      # вводимо кількість чисел\n",
    "s = 0                 # s - сума всіх чисел\n",
    "sp = []               # sp - список, в який запишемо всі наші числа\n",
    "for i in range (N):   \n",
    "    x = int(input())  # вводимо числа \n",
    "    s = s + x         # знаходимо їх суму     \n",
    "    sp.append(x)      # в кінці циклу отримуємо список, в якому записані всі наші числа\n",
    "u = s/N               # середнє значення чисел\n",
    "print('Середнє значення чисел - '+ str(u))\n",
    "print('Середнє значення чисел із округленням до 2-х знаків - '+ str(round(u, 2)))\n",
    "sp = sorted(sp)       # відсортємо елементи списку, для пошуку медіани\n",
    "if N %2 != 0:\n",
    "    m = sp[N//2]       # знаходимо медіану\n",
    "    print('Медіана чисел - ' + str(m))\n",
    "else:\n",
    "    m = (int(sp[N//2-1])+int(sp[N//2]))/2\n",
    "    print('Медіана чисел - ' + str(m))\n",
    "s1 = 0                 # s1 - сума квадратів різниці кожного з чисел та середнього значення\n",
    "for i in range(N):\n",
    "    y = (int(sp[i]) - u)**2\n",
    "    s1 = s1 + y\n",
    "N=N-1\n",
    "stv =(s1 / N)**(1/2)  # стандартне вiдхилення\n",
    "print('Стандартне відхилення - ' + str(stv))\n",
    "print('Стандартне відхилення із округленням до 2-х знаків - ' + str(round(stv, 2)))"
   ]
  }
 ],
 "metadata": {
  "kernelspec": {
   "display_name": "Python 3",
   "language": "python",
   "name": "python3"
  },
  "language_info": {
   "codemirror_mode": {
    "name": "ipython",
    "version": 3
   },
   "file_extension": ".py",
   "mimetype": "text/x-python",
   "name": "python",
   "nbconvert_exporter": "python",
   "pygments_lexer": "ipython3",
   "version": "3.8.5"
  }
 },
 "nbformat": 4,
 "nbformat_minor": 4
}
