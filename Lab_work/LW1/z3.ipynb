{
 "cells": [
  {
   "cell_type": "markdown",
   "metadata": {},
   "source": [
    "# **1. Markdown cells**  \n",
    "* Hi! Its Main Academy?  \n",
    "* All HTML tabs are supported!  \n",
    "* Моя сторінка на лінкедін [Лінкедін](https://ua.linkedin.com/)  \n",
    "  \n",
    "  \n",
    "# This is Heading1  \n",
    "## This is Heading2  \n",
    "  \n",
    "some gray colored text:  \n",
    "> This is where we can bring qoutes and present them nicely  \n",
    "\n",
    "And this is the paragraph about something very important. Even math:  \n",
    "  \n",
    "$$ y_{sub}=\\sqrt{(}x_{sub}) $$    \n",
    "      \n",
    "Or python code example:  \n",
    "```python\n",
    "import math\n",
    "def foo():\n",
    "    return \"foo\"\n",
    "```"
   ]
  }
 ],
 "metadata": {
  "kernelspec": {
   "display_name": "Python 3",
   "language": "python",
   "name": "python3"
  },
  "language_info": {
   "codemirror_mode": {
    "name": "ipython",
    "version": 3
   },
   "file_extension": ".py",
   "mimetype": "text/x-python",
   "name": "python",
   "nbconvert_exporter": "python",
   "pygments_lexer": "ipython3",
   "version": "3.8.5"
  }
 },
 "nbformat": 4,
 "nbformat_minor": 4
}
