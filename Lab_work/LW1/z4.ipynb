{
 "cells": [
  {
   "cell_type": "markdown",
   "metadata": {},
   "source": [
    "Here is the sample mean:  \n",
    "$$ \\bar{y}=\\frac{1}{n} \\displaystyle\\sum_{i=1}^{n} y_i $$\n",
    "Here is the sample variance: \n",
    "$$ \\sigma^2=\\frac{\\displaystyle\\sum_{i=1}^{n} (y_i-\\bar{y})^2}{n-1}$$\n",
    "Here is the sample standard deviation:\n",
    "$$ \\sigma=\\sqrt\\frac{\\displaystyle\\sum_{i=1}^{n} (y_i-\\bar{y})^2}{n-1}$$"
   ]
  }
 ],
 "metadata": {
  "kernelspec": {
   "display_name": "Python 3",
   "language": "python",
   "name": "python3"
  },
  "language_info": {
   "codemirror_mode": {
    "name": "ipython",
    "version": 3
   },
   "file_extension": ".py",
   "mimetype": "text/x-python",
   "name": "python",
   "nbconvert_exporter": "python",
   "pygments_lexer": "ipython3",
   "version": "3.8.5"
  }
 },
 "nbformat": 4,
 "nbformat_minor": 4
}
