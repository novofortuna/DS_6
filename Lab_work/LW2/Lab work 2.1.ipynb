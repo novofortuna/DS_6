{
 "cells": [
  {
   "cell_type": "markdown",
   "metadata": {},
   "source": [
    "___\n",
    "\n",
    "<a href='https://mainacademy.ua/'> <img src='https://mainacademy.ua/wp-content/uploads/2019/03/logo-main.png' alt = 'Хмм, щось з інтернетом'/></a>\n",
    "___\n",
    "\n",
    "# Module 2: Basic Python"
   ]
  },
  {
   "cell_type": "markdown",
   "metadata": {},
   "source": [
    "## Lab work 2.1\n",
    "\n"
   ]
  },
  {
   "cell_type": "markdown",
   "metadata": {},
   "source": [
    "#### Мета: \n",
    "\n",
    "* навчитися працювати із основними типами та структурами даних в Python;\n",
    "* ознайомитися із базовими алгоритмами;"
   ]
  },
  {
   "cell_type": "markdown",
   "metadata": {},
   "source": [
    "#### Завдання 1"
   ]
  },
  {
   "cell_type": "markdown",
   "metadata": {},
   "source": [
    "Обчислити площу трикутника, коли відома сторона та проведена висота до неї"
   ]
  },
  {
   "cell_type": "code",
   "execution_count": 1,
   "metadata": {},
   "outputs": [
    {
     "name": "stdout",
     "output_type": "stream",
     "text": [
      "Введіть довжину сторони трикутника as\n",
      "Не коректно введено довжину сторони трикутника\n",
      "\n",
      "Введіть довжину сторони трикутника -5\n",
      "Не коректно введено довжину сторони трикутника\n",
      "\n",
      "Введіть довжину сторони трикутника 6\n",
      "Введіть довжину висоти, проведеної до сторони трикутника ass\n",
      "Не коректно введено довжину висоти\n",
      "\n",
      "Введіть довжину висоти, проведеної до сторони трикутника -9\n",
      "Не коректно введено довжину висот\n",
      "\n",
      "Введіть довжину висоти, проведеної до сторони трикутника 9\n",
      "Площа трикутника дорінює  27.0\n"
     ]
    }
   ],
   "source": [
    "def A():\n",
    "    while True:\n",
    "        try:\n",
    "            a = int(input('Введіть довжину сторони трикутника '))\n",
    "        except ValueError:\n",
    "            print ('Не коректно введено довжину сторони трикутника\\n')\n",
    "            continue\n",
    "        else:\n",
    "            break\n",
    "    return a\n",
    "    \n",
    "def H():\n",
    "    while True:\n",
    "        try:\n",
    "            h = int(input('Введіть довжину висоти, проведеної до сторони трикутника '))\n",
    "        except ValueError:\n",
    "            print ('Не коректно введено довжину висоти\\n')\n",
    "            continue\n",
    "        else:\n",
    "            break\n",
    "    return h\n",
    "\n",
    "a = A()\n",
    "while True:\n",
    "    \n",
    "    if a <= 0:\n",
    "        print ('Не коректно введено довжину сторони трикутника\\n')\n",
    "        a = A()\n",
    "    else:\n",
    "        break\n",
    "\n",
    "h = H()\n",
    "while True:\n",
    "    \n",
    "    if h <= 0:\n",
    "        print ('Не коректно введено довжину висот\\n')\n",
    "        h = H()\n",
    "    else:\n",
    "        break\n",
    "\n",
    "S = a * h / 2\n",
    "\n",
    "print('Площа трикутника дорінює ',S)"
   ]
  },
  {
   "cell_type": "markdown",
   "metadata": {},
   "source": [
    "#### Завдання 2"
   ]
  },
  {
   "cell_type": "markdown",
   "metadata": {},
   "source": [
    "Дано трицифрове число. Виведіть окремо кожну цифру числа та суми цифр число\n",
    "\n",
    "Реалізуйте завдання двома способами (використовуючи стрічки та оператори `%`, `//`)"
   ]
  },
  {
   "cell_type": "code",
   "execution_count": 2,
   "metadata": {},
   "outputs": [
    {
     "name": "stdout",
     "output_type": "stream",
     "text": [
      "Введіть трицифрове число фів\n",
      "Число введено не коректно\n",
      "\n",
      "Введіть трицифрове число 2541\n",
      "Число введено не коректно\n",
      "\n",
      "Введіть трицифрове число 145\n",
      "Перша цифра числа - 1, друга цифра числа - 4, третя цифра числа - 5\n",
      "Сума цифр числа - 10\n"
     ]
    }
   ],
   "source": [
    "def F_N():\n",
    "    while True:\n",
    "        try:\n",
    "            N = input('Введіть трицифрове число ')            # трицифрове число позначимо abc\n",
    "        except ValueError:\n",
    "            print ('Число введено не коректно\\n')\n",
    "            continue\n",
    "        else:\n",
    "            break\n",
    "    return N\n",
    "\n",
    "while True:\n",
    "    try:\n",
    "        N = F_N()\n",
    "        if len(N) != 3:\n",
    "            print ('Число введено не коректно\\n')\n",
    "            N = F_N()\n",
    "        \n",
    "        a = N[0]\n",
    "        b = N[1]\n",
    "        c = N[2]\n",
    "        S = int(a) + int(b) + int(c)\n",
    "    except ValueError:\n",
    "        print ('Число введено не коректно\\n')\n",
    "        continue\n",
    "    else:\n",
    "        break\n",
    "\n",
    "print('Перша цифра числа - ' + str(a)+ ', друга цифра числа - ' + str(b) + ', третя цифра числа - ' + str(c))\n",
    "\n",
    "print('Сума цифр числа -', str(S))\n"
   ]
  },
  {
   "cell_type": "code",
   "execution_count": 3,
   "metadata": {},
   "outputs": [
    {
     "name": "stdout",
     "output_type": "stream",
     "text": [
      "Введіть трицифрове число ячс\n",
      "Число введено не коректно\n",
      "\n",
      "Введіть трицифрове число 25я\n",
      "Число введено не коректно\n",
      "\n",
      "Введіть трицифрове число 1456\n",
      "Число введено не коректно\n",
      "\n",
      "Введіть трицифрове число 147\n",
      "Перша цифра числа - 1, друга цифра числа - 4, третя цифра числа - 7\n",
      "Сума цифр числа - 12\n"
     ]
    }
   ],
   "source": [
    "def F_N():\n",
    "    while True:\n",
    "        try:\n",
    "            N = int(input('Введіть трицифрове число '))            # трицифрове число позначимо abc\n",
    "        except ValueError:\n",
    "            print ('Число введено не коректно\\n')\n",
    "            continue\n",
    "        else:\n",
    "            break\n",
    "    return N\n",
    "\n",
    "N = F_N()\n",
    "\n",
    "while True:\n",
    "    \n",
    "    if N < 100 or N > 999:\n",
    "        print ('Число введено не коректно\\n')\n",
    "        N = F_N()\n",
    "    else:\n",
    "        break\n",
    "\n",
    "a = N // 100 \n",
    "b = N % 100 // 10\n",
    "c = N % 10\n",
    "\n",
    "S = a + b + c\n",
    "\n",
    "print('Перша цифра числа - ' + str(a)+ ', друга цифра числа - ' + str(b) + ', третя цифра числа - ' + str(c))\n",
    "\n",
    "print('Сума цифр числа -', str(S))\n"
   ]
  },
  {
   "cell_type": "markdown",
   "metadata": {},
   "source": [
    "#### Завдання 3"
   ]
  },
  {
   "cell_type": "markdown",
   "metadata": {},
   "source": [
    "Дано речення (стрічка). \n",
    "* Розбийте речення по словах і помістіть їх у список. \n",
    "* Виведіть кількість слів у речені.\n",
    "* Утворіть нове речення, що складається з першого та останнього слова із початкового речення."
   ]
  },
  {
   "cell_type": "code",
   "execution_count": 1,
   "metadata": {},
   "outputs": [
    {
     "name": "stdout",
     "output_type": "stream",
     "text": [
      "Кількість слів у речені - 7\n",
      "Нове речення - My Ihor\n"
     ]
    }
   ],
   "source": [
    "sentence = 'My favourite tutor in academy is Ihor'\n",
    "\n",
    "a = sentence.split()\n",
    "\n",
    "l = len(a)\n",
    "print('Кількість слів у речені -', l)\n",
    "\n",
    "new_sentence = a[0] + ' ' + a[l-1]\n",
    "print('Нове речення -', new_sentence)\n"
   ]
  },
  {
   "cell_type": "markdown",
   "metadata": {},
   "source": [
    "#### Завдання 4"
   ]
  },
  {
   "cell_type": "markdown",
   "metadata": {},
   "source": [
    "Перевірте, чи справджується формула: $$ sin^2x + cos^2x = 1$$\n",
    "\n",
    "Напишіть код, що реалізує цю формулу. Нагадую, що тригонометричні функції приймають аргументи в радіанній мірі"
   ]
  },
  {
   "cell_type": "code",
   "execution_count": 1,
   "metadata": {},
   "outputs": [
    {
     "name": "stdout",
     "output_type": "stream",
     "text": [
      "Введіть x sa\n",
      "Не коректно введено x\n",
      "\n",
      "Введіть x 36\n",
      "1.0  Формула справджується\n"
     ]
    }
   ],
   "source": [
    "import math\n",
    "\n",
    "def F_X():\n",
    "    while True:\n",
    "        try:\n",
    "            x = int(input('Введіть x '))\n",
    "        except ValueError:\n",
    "            print ('Не коректно введено x\\n')\n",
    "            continue\n",
    "        else:\n",
    "            break\n",
    "    return x\n",
    "\n",
    "x = F_X()\n",
    "\n",
    "f = round(math.sin(x)**2 + math.cos(x)**2, 2)\n",
    "\n",
    "if f == 1:\n",
    "    print(f, ' Формула справджується')\n",
    "else:\n",
    "    print(f, ' Формула не справджується')\n"
   ]
  },
  {
   "cell_type": "markdown",
   "metadata": {},
   "source": [
    "#### Завдання 5"
   ]
  },
  {
   "cell_type": "markdown",
   "metadata": {},
   "source": [
    "Напишіть програму для обчислення коренів квадратного рівняння.\n",
    "\n",
    "Нагадую, що `n`-го степеня має `n` коренів. (Корені можуть бути комплексні)"
   ]
  },
  {
   "cell_type": "code",
   "execution_count": 1,
   "metadata": {},
   "outputs": [
    {
     "name": "stdout",
     "output_type": "stream",
     "text": [
      "1\n",
      "8\n",
      "4\n",
      "Корені квадратного рівняння:(-7.464101615137754+0j), (-0.5358983848622456+0j)\n"
     ]
    }
   ],
   "source": [
    "import cmath\n",
    "\n",
    "a = int(input())\n",
    "b = int(input())\n",
    "c = int(input())\n",
    "\n",
    "D = b**2 - 4*a*c\n",
    "\n",
    "if D > 0:\n",
    "    x1 = (- b - cmath.sqrt(D)) / (2*a) \n",
    "    x2 = (- b + cmath.sqrt(D)) / (2*a)\n",
    "    print ('Корені квадратного рівняння:' + str(x1) + ', ' + str(x2))\n",
    "elif D == 0:\n",
    "    x = (- b) / (2*a)\n",
    "    print ('Корінь квадратного рівняння = ' + str(x))\n",
    "else:\n",
    "    print ('Рівняння не має коренів')\n"
   ]
  },
  {
   "cell_type": "markdown",
   "metadata": {},
   "source": [
    "#### Завдання 6"
   ]
  },
  {
   "cell_type": "markdown",
   "metadata": {},
   "source": [
    "Напишіть програму, що виводить речення: <i>\"Діаметр планети `Planet` дорівнює` Diament`\"</i>, \n",
    "\n",
    "де `Planet` та `Diament` вводить користувач"
   ]
  },
  {
   "cell_type": "code",
   "execution_count": 1,
   "metadata": {},
   "outputs": [
    {
     "name": "stdout",
     "output_type": "stream",
     "text": [
      "Введіть найменування планети Земля\n",
      "Введіть діаметр планети 12 742 км\n",
      "Діаметр планети Земля дорівнює 12 742 км\n"
     ]
    }
   ],
   "source": [
    "Planet = input('Введіть найменування планети ')\n",
    "Diament = input('Введіть діаметр планети ')\n",
    "\n",
    "print('Діаметр планети ' + Planet + ' дорівнює ' + Diament)"
   ]
  }
 ],
 "metadata": {
  "kernelspec": {
   "display_name": "Python 3",
   "language": "python",
   "name": "python3"
  },
  "language_info": {
   "codemirror_mode": {
    "name": "ipython",
    "version": 3
   },
   "file_extension": ".py",
   "mimetype": "text/x-python",
   "name": "python",
   "nbconvert_exporter": "python",
   "pygments_lexer": "ipython3",
   "version": "3.8.5"
  }
 },
 "nbformat": 4,
 "nbformat_minor": 2
}
