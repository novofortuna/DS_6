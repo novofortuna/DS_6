{
 "cells": [
  {
   "cell_type": "markdown",
   "metadata": {},
   "source": [
    "___\n",
    "\n",
    "<a href='https://mainacademy.ua/'> <img src='https://mainacademy.ua/wp-content/uploads/2019/03/logo-main.png' alt = 'Хмм, щось з інтернетом'/></a>\n",
    "___\n",
    "\n",
    "# Module 5: Data analysis with NumPy and Pandas"
   ]
  },
  {
   "cell_type": "markdown",
   "metadata": {},
   "source": [
    "## Lab work 5.1\n",
    "\n"
   ]
  },
  {
   "cell_type": "markdown",
   "metadata": {},
   "source": [
    "#### Мета: \n",
    "\n",
    "* навчитися працювати із бібліотекою NumPy в Python"
   ]
  },
  {
   "cell_type": "markdown",
   "metadata": {},
   "source": [
    "### Завдання:"
   ]
  },
  {
   "cell_type": "code",
   "execution_count": 1,
   "metadata": {},
   "outputs": [],
   "source": [
    "import numpy as np"
   ]
  },
  {
   "cell_type": "markdown",
   "metadata": {},
   "source": [
    "Вивести версію та конфігурацію бібліотеки:"
   ]
  },
  {
   "cell_type": "code",
   "execution_count": 2,
   "metadata": {},
   "outputs": [
    {
     "name": "stdout",
     "output_type": "stream",
     "text": [
      "1.20.1\n",
      "blas_mkl_info:\n",
      "  NOT AVAILABLE\n",
      "blis_info:\n",
      "  NOT AVAILABLE\n",
      "openblas_info:\n",
      "    libraries = ['openblas', 'openblas']\n",
      "    library_dirs = ['/usr/local/lib']\n",
      "    language = c\n",
      "    define_macros = [('HAVE_CBLAS', None)]\n",
      "blas_opt_info:\n",
      "    libraries = ['openblas', 'openblas']\n",
      "    library_dirs = ['/usr/local/lib']\n",
      "    language = c\n",
      "    define_macros = [('HAVE_CBLAS', None)]\n",
      "lapack_mkl_info:\n",
      "  NOT AVAILABLE\n",
      "openblas_lapack_info:\n",
      "    libraries = ['openblas', 'openblas']\n",
      "    library_dirs = ['/usr/local/lib']\n",
      "    language = c\n",
      "    define_macros = [('HAVE_CBLAS', None)]\n",
      "lapack_opt_info:\n",
      "    libraries = ['openblas', 'openblas']\n",
      "    library_dirs = ['/usr/local/lib']\n",
      "    language = c\n",
      "    define_macros = [('HAVE_CBLAS', None)]\n",
      "None\n"
     ]
    }
   ],
   "source": [
    "print(np.__version__)\n",
    "print(np.show_config())"
   ]
  },
  {
   "cell_type": "markdown",
   "metadata": {},
   "source": [
    "Створити вектор з 10 елементів, заповнений одиницями:"
   ]
  },
  {
   "cell_type": "code",
   "execution_count": 3,
   "metadata": {},
   "outputs": [
    {
     "name": "stdout",
     "output_type": "stream",
     "text": [
      "[1. 1. 1. 1. 1. 1. 1. 1. 1. 1.]\n"
     ]
    }
   ],
   "source": [
    "V = np.ones(10)\n",
    "print(V)"
   ]
  },
  {
   "cell_type": "markdown",
   "metadata": {},
   "source": [
    "Створити вектор із значеннями від 0 до 10:"
   ]
  },
  {
   "cell_type": "code",
   "execution_count": 4,
   "metadata": {},
   "outputs": [
    {
     "name": "stdout",
     "output_type": "stream",
     "text": [
      "[ 0  1  2  3  4  5  6  7  8  9 10]\n"
     ]
    }
   ],
   "source": [
    "V = np.arange(0,11)\n",
    "print(V)"
   ]
  },
  {
   "cell_type": "markdown",
   "metadata": {},
   "source": [
    "Створити матрицю 5 на 5, заповнену нулями:"
   ]
  },
  {
   "cell_type": "code",
   "execution_count": 5,
   "metadata": {},
   "outputs": [
    {
     "name": "stdout",
     "output_type": "stream",
     "text": [
      "[[0. 0. 0. 0. 0.]\n",
      " [0. 0. 0. 0. 0.]\n",
      " [0. 0. 0. 0. 0.]\n",
      " [0. 0. 0. 0. 0.]\n",
      " [0. 0. 0. 0. 0.]]\n"
     ]
    }
   ],
   "source": [
    "M = np.zeros((5,5))\n",
    "print(M)"
   ]
  },
  {
   "cell_type": "markdown",
   "metadata": {},
   "source": [
    "Заповнити вектор з 20 елементів випадковими цілими числами. Знайти індекси ненульових елементів:"
   ]
  },
  {
   "cell_type": "code",
   "execution_count": 6,
   "metadata": {},
   "outputs": [
    {
     "name": "stdout",
     "output_type": "stream",
     "text": [
      "Вектор з 20 елементів:\n",
      "[4 5 4 1 0 5 5 1 4 5 3 4 3 5 3 5 1 3 5 1]\n",
      "\n",
      "Індекси ненульових елементів:\n",
      " [ 0  1  2  3  5  6  7  8  9 10 11 12 13 14 15 16 17 18 19]\n"
     ]
    }
   ],
   "source": [
    "# Я обмежила інтервал (від 0 до 5 включно), оскільки при великих значеннях цілих чисел нуль рандомно майже не випадає \n",
    "V = np.random.randint(6, size = 20)\n",
    "print('Вектор з 20 елементів:')\n",
    "print(V)\n",
    "e = np.nonzero(V)\n",
    "print(f'\\nІндекси ненульових елементів:\\n', e[0])"
   ]
  },
  {
   "cell_type": "markdown",
   "metadata": {},
   "source": [
    "Для вектора із попередньої задачі знайти середнє значення, медіану, стандартне відхилення:"
   ]
  },
  {
   "cell_type": "code",
   "execution_count": 7,
   "metadata": {},
   "outputs": [
    {
     "name": "stdout",
     "output_type": "stream",
     "text": [
      "Середнє значення вектора V - 3.35\n",
      "\n",
      "Медіана вектора V - 4.0\n",
      "\n",
      "Стандартне відхилення вектора V - 1.6515144564913744\n"
     ]
    }
   ],
   "source": [
    "s = np.mean(V)\n",
    "print(f'Середнє значення вектора V -', s)\n",
    "m = np.median(V)\n",
    "print(f'\\nМедіана вектора V -', m)\n",
    "std = np.std(V)\n",
    "print(f'\\nСтандартне відхилення вектора V -', std)"
   ]
  },
  {
   "cell_type": "markdown",
   "metadata": {},
   "source": [
    "Створити дві матриці випадкових чисел розміром 4х2 та 2х2. Перемножити їх:"
   ]
  },
  {
   "cell_type": "code",
   "execution_count": 8,
   "metadata": {
    "scrolled": true
   },
   "outputs": [
    {
     "name": "stdout",
     "output_type": "stream",
     "text": [
      "Матриця 4х2\n",
      "[[0.46099148 0.2821302 ]\n",
      " [0.44996459 0.10465911]\n",
      " [0.92393892 0.08417974]\n",
      " [0.28629606 0.88900763]]\n",
      "\n",
      "Матриця 2х2\n",
      "[[0.49034687 0.39470324]\n",
      " [0.34579998 0.70487728]]\n",
      "\n",
      "Результат множення двох матриць\n",
      "[[0.32360634 0.380822  ]\n",
      " [0.25682984 0.25137431]\n",
      " [0.48215991 0.42401807]\n",
      " [0.4478032  0.73964326]]\n"
     ]
    }
   ],
   "source": [
    "M1 = np.random.random((4,2))\n",
    "print('Матриця 4х2')\n",
    "print(M1)\n",
    "M2 = np.random.random((2,2))\n",
    "print('\\nМатриця 2х2')\n",
    "print(M2)\n",
    "M_1_2 = np.dot(M1, M2)\n",
    "print('\\nРезультат множення двох матриць')\n",
    "print(M_1_2)"
   ]
  },
  {
   "cell_type": "markdown",
   "metadata": {},
   "source": [
    "Результуючу матрицю із попередньої задачі перетворити у вектор. Знайти мінімальне та максимальне значення. \n",
    "\n",
    "Максимальне значення замінити на 0:"
   ]
  },
  {
   "cell_type": "code",
   "execution_count": 9,
   "metadata": {},
   "outputs": [
    {
     "name": "stdout",
     "output_type": "stream",
     "text": [
      "Вектор, отриманий з матриці\n",
      "[0.32360634 0.380822   0.25682984 0.25137431 0.48215991 0.42401807\n",
      " 0.4478032  0.73964326]\n",
      "\n",
      "Мінімальне значення вектора -  0.2513743068929289\n",
      "\n",
      "Максимальне значення вектора-  0.7396432604831439\n",
      "\n",
      "Вектор в якому максимальне значення змінено на 0\n",
      "[0.32360634 0.380822   0.25682984 0.25137431 0.48215991 0.42401807\n",
      " 0.4478032  0.        ]\n"
     ]
    }
   ],
   "source": [
    "V = np.reshape(M_1_2, (8))\n",
    "print('Вектор, отриманий з матриці')\n",
    "print(V)\n",
    "V_min = np.min(V)\n",
    "print(f'\\nМінімальне значення вектора - ', V_min)\n",
    "V_max = np.max(V)\n",
    "print(f'\\nМаксимальне значення вектора- ', V_max)\n",
    "\n",
    "V[list(V).index(V_max)] = 0\n",
    "print(f'\\nВектор в якому максимальне значення змінено на 0')\n",
    "print(V)"
   ]
  },
  {
   "cell_type": "markdown",
   "metadata": {},
   "source": [
    "Знайдіть кореляцію першого рядка матриці із попереднього завдання із іншими рядками:"
   ]
  },
  {
   "cell_type": "code",
   "execution_count": 10,
   "metadata": {},
   "outputs": [
    {
     "name": "stdout",
     "output_type": "stream",
     "text": [
      "Кореляція першого рядка матриці до другого рядка - [0.17884063]\n",
      "\n",
      "Кореляція першого рядка матриці до третього рядка - [0.31750542]\n",
      "\n",
      "Кореляція першого рядка матриці до червертого рядка - [0.14491196]\n"
     ]
    }
   ],
   "source": [
    "K1 = np.correlate(M_1_2[0], M_1_2[1])\n",
    "print('Кореляція першого рядка матриці до другого рядка -', K1)\n",
    "K2 = np.correlate(M_1_2[0], M_1_2[2])\n",
    "print(f'\\nКореляція першого рядка матриці до третього рядка -',K2)\n",
    "K3 = np.correlate(M_1_2[0], M_1_2[3])\n",
    "print(f'\\nКореляція першого рядка матриці до червертого рядка -',K3)"
   ]
  },
  {
   "cell_type": "markdown",
   "metadata": {},
   "source": [
    "Дано матрицю. Знайти ранг матриці:"
   ]
  },
  {
   "cell_type": "code",
   "execution_count": 11,
   "metadata": {},
   "outputs": [
    {
     "name": "stdout",
     "output_type": "stream",
     "text": [
      "Ранг матриці -  3\n"
     ]
    }
   ],
   "source": [
    "a = np.array([[ 1,  4, 5],\n",
    "              [7, 3, 2],\n",
    "              [9, 16, 1]])\n",
    "r = np.linalg.matrix_rank(a)\n",
    "print(f'Ранг матриці - ', r)"
   ]
  },
  {
   "cell_type": "markdown",
   "metadata": {},
   "source": [
    "Знайти визначник матриці:"
   ]
  },
  {
   "cell_type": "code",
   "execution_count": 12,
   "metadata": {},
   "outputs": [
    {
     "name": "stdout",
     "output_type": "stream",
     "text": [
      "Визначник матриці -  440.0000000000002\n"
     ]
    }
   ],
   "source": [
    "v = np.linalg.det(a)\n",
    "print(f'Визначник матриці - ', v)"
   ]
  },
  {
   "cell_type": "markdown",
   "metadata": {},
   "source": [
    "Знайти власні значення та власні вектори матриці: "
   ]
  },
  {
   "cell_type": "code",
   "execution_count": 13,
   "metadata": {},
   "outputs": [
    {
     "name": "stdout",
     "output_type": "stream",
     "text": [
      "Власні значення матриці:\n",
      "[14.13520334+0.j         -4.56760167+3.20389947j -4.56760167-3.20389947j]\n",
      "\n",
      "Власні вектори матриці:\n",
      "[[ 0.43131913+0.j         -0.31386258-0.47450898j -0.31386258+0.47450898j]\n",
      " [ 0.41502436+0.j         -0.07049527+0.4090732j  -0.07049527-0.4090732j ]\n",
      " [ 0.8010734 +0.j          0.7099444 +0.j          0.7099444 -0.j        ]]\n"
     ]
    }
   ],
   "source": [
    "z = np.linalg.eig(a)\n",
    "print(f'Власні значення матриці:')\n",
    "print(z[0])\n",
    "print(f'\\nВласні вектори матриці:')\n",
    "print(z[1])"
   ]
  },
  {
   "cell_type": "markdown",
   "metadata": {},
   "source": [
    "Знайдіть число, що найчастіше зустрічається в масиві:"
   ]
  },
  {
   "cell_type": "code",
   "execution_count": 14,
   "metadata": {},
   "outputs": [
    {
     "name": "stdout",
     "output_type": "stream",
     "text": [
      "Масив a:\n",
      "[3 2 7 1 9 3 0 4 4 7 6 6 1 5 1 2 5 1 4 0 3 8 7 1 8 2 7 8 9 6 6 1 0 1 1 5 5\n",
      " 1 8 9 3 6 2 3 3 8 6 2 0 3]\n",
      "\n",
      "В масиві найчастіше зустрічається число -  1\n"
     ]
    }
   ],
   "source": [
    "a = np.random.randint(0,10,50)\n",
    "print('Масив a:')\n",
    "print(a)\n",
    "print(f'\\nВ масиві найчастіше зустрічається число - ', np.bincount(a).argmax())"
   ]
  },
  {
   "cell_type": "markdown",
   "metadata": {},
   "source": [
    "Виведіть лише парні числа, що діляться на 5:"
   ]
  },
  {
   "cell_type": "code",
   "execution_count": 15,
   "metadata": {},
   "outputs": [
    {
     "name": "stdout",
     "output_type": "stream",
     "text": [
      "Масив a:\n",
      "[26  5 24 74 87 35 48 37  5 58 98 94 41 98 49 82 88 82  0 43 12 41 18 47\n",
      " 17 52 94 86 63 44 72 50  8 33 99 46 71  7 88 97 24 52 55 90 45 38 52  8\n",
      " 37 76]\n",
      "\n",
      "Парні числа, які діляться на 5:\n",
      "[50 90]\n"
     ]
    }
   ],
   "source": [
    "# a = np.random.randint(0,10,50)\n",
    "# Я збільшила масимальне значення інтервалу з 10 до 100, \n",
    "# оскільки в інтервалі рандомних чисел від 0 до 9 немає парних чисел, що діляться на 5 націло \n",
    "\n",
    "a = np.random.randint(0,100,50)\n",
    "print('Масив a:')\n",
    "print(a)\n",
    "b = a[a%10==0] \n",
    "print('\\nПарні числа, які діляться на 5:')\n",
    "print(b[b!=0])"
   ]
  },
  {
   "cell_type": "markdown",
   "metadata": {},
   "source": [
    "Розв'яжіть систему рівнянь:\n",
    "$$2x + 5y = 1 $$\n",
    "\n",
    "$$x - 10y = 3  $$\n",
    "   "
   ]
  },
  {
   "cell_type": "code",
   "execution_count": 16,
   "metadata": {},
   "outputs": [
    {
     "name": "stdout",
     "output_type": "stream",
     "text": [
      "Розв'язки системи рівняння:\n",
      "x = 1.0\n",
      "y = -0.2\n"
     ]
    }
   ],
   "source": [
    "#Запишемо систему рівнянь у вигляді двох масивів\n",
    "A1 = np.array([[2,5], [1,-10]])\n",
    "A2 = np.array([1,3])\n",
    "R = np.linalg.solve(A1,A2)\n",
    "print(\"Розв'язки системи рівняння:\")\n",
    "print(f'x =', R[0])\n",
    "print(f'y =', R[1])"
   ]
  }
 ],
 "metadata": {
  "kernelspec": {
   "display_name": "Python 3",
   "language": "python",
   "name": "python3"
  },
  "language_info": {
   "codemirror_mode": {
    "name": "ipython",
    "version": 3
   },
   "file_extension": ".py",
   "mimetype": "text/x-python",
   "name": "python",
   "nbconvert_exporter": "python",
   "pygments_lexer": "ipython3",
   "version": "3.8.5"
  }
 },
 "nbformat": 4,
 "nbformat_minor": 2
}
